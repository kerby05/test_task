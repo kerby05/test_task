{
 "cells": [
  {
   "cell_type": "code",
   "execution_count": 191,
   "metadata": {
    "colab": {},
    "colab_type": "code",
    "collapsed": true,
    "id": "tgwkEdkstXUg"
   },
   "outputs": [],
   "source": [
    "from bs4 import BeautifulSoup\n",
    "import requests\n",
    "import pandas as pd\n",
    "import matplotlib.pyplot as plt\n",
    "from sklearn.ensemble import RandomForestRegressor\n",
    "from sklearn.model_selection import train_test_split\n",
    "import numpy as np\n",
    "from sklearn.metrics import r2_score\n",
    "from sklearn import linear_model\n",
    "%matplotlib inline"
   ]
  },
  {
   "cell_type": "code",
   "execution_count": 114,
   "metadata": {
    "colab": {},
    "colab_type": "code",
    "collapsed": true,
    "id": "xV8XZUlsmkiy"
   },
   "outputs": [],
   "source": [
    "def get_flats(soup):\n",
    " divs_html = [i for i in soup.find_all('div', {'class': 'description item_table-description'})]\n",
    " flats = [[i.find_all('span', {'class': 'price'}),\n",
    "           i.find_all('span', {'itemprop': 'name'}),\n",
    "           i.find_all('span', {'class': 'item-address-georeferences-item__content'})] for i in divs_html]\n",
    " flats = [[i, j, k] for i, j, k in flats if i and j and k]\n",
    " flats = [[int(flat[0][0].text.replace('\\n', '').replace(' ','').replace('₽','')),\n",
    "           flat[1][0].text.replace('\\n', '').strip(),\n",
    "           flat[2][0].text.replace('\\n', '').replace('р-н', '').strip()] for flat in flats]\n",
    " return flats"
   ]
  },
  {
   "cell_type": "code",
   "execution_count": 115,
   "metadata": {
    "colab": {
     "base_uri": "https://localhost:8080/",
     "height": 88
    },
    "colab_type": "code",
    "id": "s_R0d-6-t-GP",
    "outputId": "a9999d65-406e-4102-9f30-c1e64225e67f"
   },
   "outputs": [
    {
     "name": "stdout",
     "output_type": "stream",
     "text": [
      "Number of flats: 5018\n",
      "Exapmles:\n",
      "[[2990000, '3-к квартира, 65 м², 5/16 эт.', 'Индустриальный'], [6850000, '3-к квартира, 85.6 м², 10/10 эт.', 'Ленинский'], [1950000, 'Студия, 31 м², 2/5 эт.', 'Индустриальный'], [1669000, '1-к квартира, 33.4 м², 4/16 эт.', 'Дзержинский'], [2107000, '1-к квартира, 39 м², 1/9 эт.', 'Свердловский']]\n"
     ]
    }
   ],
   "source": [
    "all_flats = []\n",
    "for i in range(1, 101):\n",
    "  flats = []\n",
    "  #if i == 0:\n",
    "  #  link = 'https://www.avito.ru/perm/kvartiry/prodam'\n",
    "  #else:\n",
    "  link = 'https://www.avito.ru/perm/kvartiry/prodam?p={}'.format(i)\n",
    "  r = requests.get(link)\n",
    "  soup = BeautifulSoup(r.text, 'lxml')\n",
    "  flats = get_flats(soup)\n",
    "  all_flats = all_flats + flats\n",
    "\n",
    "print('Number of flats: {}'.format(len(all_flats)))\n",
    "print('Exapmles:')\n",
    "print(all_flats[0:5])"
   ]
  },
  {
   "cell_type": "code",
   "execution_count": 116,
   "metadata": {
    "colab": {
     "base_uri": "https://localhost:8080/",
     "height": 204
    },
    "colab_type": "code",
    "id": "G8sDMELdvwwn",
    "outputId": "c94b8942-718a-4581-b2ae-991a00dbf78f"
   },
   "outputs": [
    {
     "data": {
      "text/html": [
       "<div>\n",
       "<style>\n",
       "    .dataframe thead tr:only-child th {\n",
       "        text-align: right;\n",
       "    }\n",
       "\n",
       "    .dataframe thead th {\n",
       "        text-align: left;\n",
       "    }\n",
       "\n",
       "    .dataframe tbody tr th {\n",
       "        vertical-align: top;\n",
       "    }\n",
       "</style>\n",
       "<table border=\"1\" class=\"dataframe\">\n",
       "  <thead>\n",
       "    <tr style=\"text-align: right;\">\n",
       "      <th></th>\n",
       "      <th>price</th>\n",
       "      <th>description</th>\n",
       "      <th>area</th>\n",
       "    </tr>\n",
       "  </thead>\n",
       "  <tbody>\n",
       "    <tr>\n",
       "      <th>0</th>\n",
       "      <td>2990000</td>\n",
       "      <td>3-к квартира, 65 м², 5/16 эт.</td>\n",
       "      <td>Индустриальный</td>\n",
       "    </tr>\n",
       "    <tr>\n",
       "      <th>1</th>\n",
       "      <td>6850000</td>\n",
       "      <td>3-к квартира, 85.6 м², 10/10 эт.</td>\n",
       "      <td>Ленинский</td>\n",
       "    </tr>\n",
       "    <tr>\n",
       "      <th>2</th>\n",
       "      <td>1950000</td>\n",
       "      <td>Студия, 31 м², 2/5 эт.</td>\n",
       "      <td>Индустриальный</td>\n",
       "    </tr>\n",
       "    <tr>\n",
       "      <th>3</th>\n",
       "      <td>1669000</td>\n",
       "      <td>1-к квартира, 33.4 м², 4/16 эт.</td>\n",
       "      <td>Дзержинский</td>\n",
       "    </tr>\n",
       "    <tr>\n",
       "      <th>4</th>\n",
       "      <td>2107000</td>\n",
       "      <td>1-к квартира, 39 м², 1/9 эт.</td>\n",
       "      <td>Свердловский</td>\n",
       "    </tr>\n",
       "  </tbody>\n",
       "</table>\n",
       "</div>"
      ],
      "text/plain": [
       "     price                       description            area\n",
       "0  2990000     3-к квартира, 65 м², 5/16 эт.  Индустриальный\n",
       "1  6850000  3-к квартира, 85.6 м², 10/10 эт.       Ленинский\n",
       "2  1950000            Студия, 31 м², 2/5 эт.  Индустриальный\n",
       "3  1669000   1-к квартира, 33.4 м², 4/16 эт.     Дзержинский\n",
       "4  2107000      1-к квартира, 39 м², 1/9 эт.    Свердловский"
      ]
     },
     "execution_count": 116,
     "metadata": {},
     "output_type": "execute_result"
    }
   ],
   "source": [
    "df = pd.DataFrame(all_flats, columns=['price','description','area'])\n",
    "df.head()"
   ]
  },
  {
   "cell_type": "code",
   "execution_count": 117,
   "metadata": {
    "colab": {
     "base_uri": "https://localhost:8080/",
     "height": 153
    },
    "colab_type": "code",
    "id": "z4744gIYyjGn",
    "outputId": "ef36e77b-39a3-4c8d-c1ee-4401bf5244df"
   },
   "outputs": [
    {
     "name": "stdout",
     "output_type": "stream",
     "text": [
      "<class 'pandas.core.frame.DataFrame'>\n",
      "RangeIndex: 5018 entries, 0 to 5017\n",
      "Data columns (total 3 columns):\n",
      "price          5018 non-null int64\n",
      "description    5018 non-null object\n",
      "area           5018 non-null object\n",
      "dtypes: int64(1), object(2)\n",
      "memory usage: 117.7+ KB\n"
     ]
    }
   ],
   "source": [
    "df.info()"
   ]
  },
  {
   "cell_type": "code",
   "execution_count": 118,
   "metadata": {
    "colab": {
     "base_uri": "https://localhost:8080/",
     "height": 241
    },
    "colab_type": "code",
    "id": "JS8t4BzGyBer",
    "outputId": "c64f66ce-50bb-435d-d74a-8e38e4041e31"
   },
   "outputs": [
    {
     "name": "stdout",
     "output_type": "stream",
     "text": [
      "price\n",
      "Unique values count:  1114\n",
      "Values: [130000: 42000000]\n",
      "\n",
      "description\n",
      "Unique values count:  3873\n",
      "Values: [1-к квартира, 12.8 м², 3/5 эт.: Студия, 72.6 м², 12/16 эт.]\n",
      "\n",
      "area\n",
      "Unique values count:  8\n",
      "Values: ['Дзержинский', 'Индустриальный', 'Кировский', 'Ленинский', 'Мотовилихинский', 'Новые Ляды', 'Орджоникидзевский', 'Свердловский']\n",
      "\n"
     ]
    }
   ],
   "source": [
    "def get_pandas_info(df):\n",
    "    for column in df.columns:\n",
    "        print(column)\n",
    "        values = df[column].unique()\n",
    "        sorted_values = sorted(values.tolist())\n",
    "        print('Unique values count: ', len(sorted_values))\n",
    "        if len(sorted_values) < 20:\n",
    "            print(\"Values: \"+ str(sorted_values))\n",
    "        else:\n",
    "            print(\"Values: [{}: {}]\".format(min(sorted_values), max(sorted_values)))\n",
    "        inter = set(df[column].unique()) - set(df[column].unique())\n",
    "        if inter:\n",
    "            print('Contains nan value')\n",
    "        print()\n",
    "        \n",
    "get_pandas_info(df)  "
   ]
  },
  {
   "cell_type": "code",
   "execution_count": 119,
   "metadata": {
    "colab": {},
    "colab_type": "code",
    "collapsed": true,
    "id": "7ii6_Q4X22Ea"
   },
   "outputs": [],
   "source": [
    "df.to_csv('flats.csv', sep=';')"
   ]
  },
  {
   "cell_type": "code",
   "execution_count": 120,
   "metadata": {
    "colab": {},
    "colab_type": "code",
    "id": "YH6m4-i947Hr"
   },
   "outputs": [
    {
     "data": {
      "text/html": [
       "<div>\n",
       "<style>\n",
       "    .dataframe thead tr:only-child th {\n",
       "        text-align: right;\n",
       "    }\n",
       "\n",
       "    .dataframe thead th {\n",
       "        text-align: left;\n",
       "    }\n",
       "\n",
       "    .dataframe tbody tr th {\n",
       "        vertical-align: top;\n",
       "    }\n",
       "</style>\n",
       "<table border=\"1\" class=\"dataframe\">\n",
       "  <thead>\n",
       "    <tr style=\"text-align: right;\">\n",
       "      <th></th>\n",
       "      <th>price</th>\n",
       "      <th>description</th>\n",
       "      <th>area</th>\n",
       "      <th>room_count</th>\n",
       "      <th>square</th>\n",
       "      <th>floors</th>\n",
       "    </tr>\n",
       "  </thead>\n",
       "  <tbody>\n",
       "    <tr>\n",
       "      <th>0</th>\n",
       "      <td>2990000</td>\n",
       "      <td>3-к квартира, 65 м², 5/16 эт.</td>\n",
       "      <td>Индустриальный</td>\n",
       "      <td>3</td>\n",
       "      <td>65</td>\n",
       "      <td>5/16</td>\n",
       "    </tr>\n",
       "    <tr>\n",
       "      <th>1</th>\n",
       "      <td>6850000</td>\n",
       "      <td>3-к квартира, 85.6 м², 10/10 эт.</td>\n",
       "      <td>Ленинский</td>\n",
       "      <td>3</td>\n",
       "      <td>85.6</td>\n",
       "      <td>10/10</td>\n",
       "    </tr>\n",
       "    <tr>\n",
       "      <th>2</th>\n",
       "      <td>1669000</td>\n",
       "      <td>1-к квартира, 33.4 м², 4/16 эт.</td>\n",
       "      <td>Дзержинский</td>\n",
       "      <td>1</td>\n",
       "      <td>33.4</td>\n",
       "      <td>4/16</td>\n",
       "    </tr>\n",
       "    <tr>\n",
       "      <th>3</th>\n",
       "      <td>2107000</td>\n",
       "      <td>1-к квартира, 39 м², 1/9 эт.</td>\n",
       "      <td>Свердловский</td>\n",
       "      <td>1</td>\n",
       "      <td>39</td>\n",
       "      <td>1/9</td>\n",
       "    </tr>\n",
       "    <tr>\n",
       "      <th>4</th>\n",
       "      <td>2900000</td>\n",
       "      <td>2-к квартира, 67 м², 5/16 эт.</td>\n",
       "      <td>Орджоникидзевский</td>\n",
       "      <td>2</td>\n",
       "      <td>67</td>\n",
       "      <td>5/16</td>\n",
       "    </tr>\n",
       "  </tbody>\n",
       "</table>\n",
       "</div>"
      ],
      "text/plain": [
       "     price                       description               area room_count  \\\n",
       "0  2990000     3-к квартира, 65 м², 5/16 эт.     Индустриальный          3   \n",
       "1  6850000  3-к квартира, 85.6 м², 10/10 эт.          Ленинский          3   \n",
       "2  1669000   1-к квартира, 33.4 м², 4/16 эт.        Дзержинский          1   \n",
       "3  2107000      1-к квартира, 39 м², 1/9 эт.       Свердловский          1   \n",
       "4  2900000     2-к квартира, 67 м², 5/16 эт.  Орджоникидзевский          2   \n",
       "\n",
       "  square floors  \n",
       "0     65   5/16  \n",
       "1   85.6  10/10  \n",
       "2   33.4   4/16  \n",
       "3     39    1/9  \n",
       "4     67   5/16  "
      ]
     },
     "execution_count": 120,
     "metadata": {},
     "output_type": "execute_result"
    }
   ],
   "source": [
    "df[['room_count', 'square', 'floors']] = pd.DataFrame([ i.split(',') for i in df['description'].tolist()])\n",
    "df = df.drop(df[(df['room_count'] == 'Своб. планировка') | (df['room_count'] == 'Студия')].index)\n",
    "df = df.reset_index()\n",
    "del df['index']\n",
    "df['floors'] = df['floors'].map(lambda x: ''.join(i for i in x if i.isdigit() or i == '/' or i == '\\\\'))\n",
    "df['square'] = df['square'].map(lambda x: ''.join(i for i in x if i.isdigit() or i == '.' ))\n",
    "df['square'] = df['square'].map(lambda x: ''.join(i for i in x if i != '²'))\n",
    "df['room_count'] = df['room_count'].map(lambda x: ''.join(i for i in x if i.isdigit()))\n",
    "df.head()"
   ]
  },
  {
   "cell_type": "code",
   "execution_count": 121,
   "metadata": {
    "colab": {},
    "colab_type": "code",
    "id": "U4fJ7lS29gdJ"
   },
   "outputs": [
    {
     "name": "stdout",
     "output_type": "stream",
     "text": [
      "<class 'pandas.core.frame.DataFrame'>\n",
      "RangeIndex: 4791 entries, 0 to 4790\n",
      "Data columns (total 6 columns):\n",
      "price           4791 non-null int64\n",
      "area            4791 non-null object\n",
      "room_count      4791 non-null int64\n",
      "square          4791 non-null float64\n",
      "floor           4791 non-null int64\n",
      "total_floors    4791 non-null int64\n",
      "dtypes: float64(1), int64(4), object(1)\n",
      "memory usage: 224.7+ KB\n"
     ]
    }
   ],
   "source": [
    "df[['floor', 'total_floors']] = pd.DataFrame([i.split('/') for i in df['floors'].tolist()])\n",
    "numeric_columns = ['price', 'room_count', 'square', 'floor', 'total_floors']\n",
    "df[numeric_columns] = df[numeric_columns].apply(pd.to_numeric)\n",
    "del df['description']\n",
    "del df['floors']\n",
    "df.info()"
   ]
  },
  {
   "cell_type": "code",
   "execution_count": 122,
   "metadata": {
    "colab": {
     "base_uri": "https://localhost:8080/",
     "height": 445
    },
    "colab_type": "code",
    "id": "3EdW7txB6PER",
    "outputId": "8743d41d-c0d4-4cda-99e0-169f1da8e39f"
   },
   "outputs": [
    {
     "name": "stdout",
     "output_type": "stream",
     "text": [
      "price\n",
      "Unique values count:  1064\n",
      "Values: [200000: 42000000]\n",
      "\n",
      "area\n",
      "Unique values count:  8\n",
      "Values: ['Дзержинский', 'Индустриальный', 'Кировский', 'Ленинский', 'Мотовилихинский', 'Новые Ляды', 'Орджоникидзевский', 'Свердловский']\n",
      "\n",
      "room_count\n",
      "Unique values count:  6\n",
      "Values: [1, 2, 3, 4, 5, 6]\n",
      "\n",
      "square\n",
      "Unique values count:  779\n",
      "Values: [12.8: 593.0]\n",
      "\n",
      "floor\n",
      "Unique values count:  25\n",
      "Values: [1: 25]\n",
      "\n",
      "total_floors\n",
      "Unique values count:  28\n",
      "Values: [1: 32]\n",
      "\n"
     ]
    }
   ],
   "source": [
    "get_pandas_info(df) "
   ]
  },
  {
   "cell_type": "code",
   "execution_count": 123,
   "metadata": {
    "colab": {
     "base_uri": "https://localhost:8080/",
     "height": 204
    },
    "colab_type": "code",
    "id": "ZtCaK_VQzCfy",
    "outputId": "f1a4b744-d8ce-4e6c-9feb-b29c0dded8d4"
   },
   "outputs": [
    {
     "data": {
      "text/html": [
       "<div>\n",
       "<style>\n",
       "    .dataframe thead tr:only-child th {\n",
       "        text-align: right;\n",
       "    }\n",
       "\n",
       "    .dataframe thead th {\n",
       "        text-align: left;\n",
       "    }\n",
       "\n",
       "    .dataframe tbody tr th {\n",
       "        vertical-align: top;\n",
       "    }\n",
       "</style>\n",
       "<table border=\"1\" class=\"dataframe\">\n",
       "  <thead>\n",
       "    <tr style=\"text-align: right;\">\n",
       "      <th></th>\n",
       "      <th>price</th>\n",
       "      <th>area</th>\n",
       "      <th>room_count</th>\n",
       "      <th>square</th>\n",
       "      <th>floor</th>\n",
       "      <th>total_floors</th>\n",
       "    </tr>\n",
       "  </thead>\n",
       "  <tbody>\n",
       "    <tr>\n",
       "      <th>0</th>\n",
       "      <td>2990000</td>\n",
       "      <td>Индустриальный</td>\n",
       "      <td>3</td>\n",
       "      <td>65.0</td>\n",
       "      <td>5</td>\n",
       "      <td>16</td>\n",
       "    </tr>\n",
       "    <tr>\n",
       "      <th>1</th>\n",
       "      <td>6850000</td>\n",
       "      <td>Ленинский</td>\n",
       "      <td>3</td>\n",
       "      <td>85.6</td>\n",
       "      <td>10</td>\n",
       "      <td>10</td>\n",
       "    </tr>\n",
       "    <tr>\n",
       "      <th>2</th>\n",
       "      <td>1669000</td>\n",
       "      <td>Дзержинский</td>\n",
       "      <td>1</td>\n",
       "      <td>33.4</td>\n",
       "      <td>4</td>\n",
       "      <td>16</td>\n",
       "    </tr>\n",
       "    <tr>\n",
       "      <th>3</th>\n",
       "      <td>2107000</td>\n",
       "      <td>Свердловский</td>\n",
       "      <td>1</td>\n",
       "      <td>39.0</td>\n",
       "      <td>1</td>\n",
       "      <td>9</td>\n",
       "    </tr>\n",
       "    <tr>\n",
       "      <th>4</th>\n",
       "      <td>2900000</td>\n",
       "      <td>Орджоникидзевский</td>\n",
       "      <td>2</td>\n",
       "      <td>67.0</td>\n",
       "      <td>5</td>\n",
       "      <td>16</td>\n",
       "    </tr>\n",
       "  </tbody>\n",
       "</table>\n",
       "</div>"
      ],
      "text/plain": [
       "     price               area  room_count  square  floor  total_floors\n",
       "0  2990000     Индустриальный           3    65.0      5            16\n",
       "1  6850000          Ленинский           3    85.6     10            10\n",
       "2  1669000        Дзержинский           1    33.4      4            16\n",
       "3  2107000       Свердловский           1    39.0      1             9\n",
       "4  2900000  Орджоникидзевский           2    67.0      5            16"
      ]
     },
     "execution_count": 123,
     "metadata": {},
     "output_type": "execute_result"
    }
   ],
   "source": [
    "df.head()"
   ]
  },
  {
   "cell_type": "code",
   "execution_count": 124,
   "metadata": {},
   "outputs": [
    {
     "data": {
      "text/html": [
       "<div>\n",
       "<style>\n",
       "    .dataframe thead tr:only-child th {\n",
       "        text-align: right;\n",
       "    }\n",
       "\n",
       "    .dataframe thead th {\n",
       "        text-align: left;\n",
       "    }\n",
       "\n",
       "    .dataframe tbody tr th {\n",
       "        vertical-align: top;\n",
       "    }\n",
       "</style>\n",
       "<table border=\"1\" class=\"dataframe\">\n",
       "  <thead>\n",
       "    <tr style=\"text-align: right;\">\n",
       "      <th></th>\n",
       "      <th>price</th>\n",
       "      <th>room_count</th>\n",
       "      <th>square</th>\n",
       "      <th>floor</th>\n",
       "      <th>total_floors</th>\n",
       "    </tr>\n",
       "  </thead>\n",
       "  <tbody>\n",
       "    <tr>\n",
       "      <th>count</th>\n",
       "      <td>4.791000e+03</td>\n",
       "      <td>4791.000000</td>\n",
       "      <td>4791.000000</td>\n",
       "      <td>4791.000000</td>\n",
       "      <td>4791.000000</td>\n",
       "    </tr>\n",
       "    <tr>\n",
       "      <th>mean</th>\n",
       "      <td>3.203896e+06</td>\n",
       "      <td>2.113964</td>\n",
       "      <td>55.841411</td>\n",
       "      <td>5.590482</td>\n",
       "      <td>10.436235</td>\n",
       "    </tr>\n",
       "    <tr>\n",
       "      <th>std</th>\n",
       "      <td>2.049179e+06</td>\n",
       "      <td>0.923569</td>\n",
       "      <td>26.683838</td>\n",
       "      <td>4.623768</td>\n",
       "      <td>6.403618</td>\n",
       "    </tr>\n",
       "    <tr>\n",
       "      <th>min</th>\n",
       "      <td>2.000000e+05</td>\n",
       "      <td>1.000000</td>\n",
       "      <td>12.800000</td>\n",
       "      <td>1.000000</td>\n",
       "      <td>1.000000</td>\n",
       "    </tr>\n",
       "    <tr>\n",
       "      <th>25%</th>\n",
       "      <td>2.090000e+06</td>\n",
       "      <td>1.000000</td>\n",
       "      <td>40.000000</td>\n",
       "      <td>2.000000</td>\n",
       "      <td>5.000000</td>\n",
       "    </tr>\n",
       "    <tr>\n",
       "      <th>50%</th>\n",
       "      <td>2.700000e+06</td>\n",
       "      <td>2.000000</td>\n",
       "      <td>49.700000</td>\n",
       "      <td>4.000000</td>\n",
       "      <td>9.000000</td>\n",
       "    </tr>\n",
       "    <tr>\n",
       "      <th>75%</th>\n",
       "      <td>3.600000e+06</td>\n",
       "      <td>3.000000</td>\n",
       "      <td>64.350000</td>\n",
       "      <td>8.000000</td>\n",
       "      <td>16.000000</td>\n",
       "    </tr>\n",
       "    <tr>\n",
       "      <th>max</th>\n",
       "      <td>4.200000e+07</td>\n",
       "      <td>6.000000</td>\n",
       "      <td>593.000000</td>\n",
       "      <td>25.000000</td>\n",
       "      <td>32.000000</td>\n",
       "    </tr>\n",
       "  </tbody>\n",
       "</table>\n",
       "</div>"
      ],
      "text/plain": [
       "              price   room_count       square        floor  total_floors\n",
       "count  4.791000e+03  4791.000000  4791.000000  4791.000000   4791.000000\n",
       "mean   3.203896e+06     2.113964    55.841411     5.590482     10.436235\n",
       "std    2.049179e+06     0.923569    26.683838     4.623768      6.403618\n",
       "min    2.000000e+05     1.000000    12.800000     1.000000      1.000000\n",
       "25%    2.090000e+06     1.000000    40.000000     2.000000      5.000000\n",
       "50%    2.700000e+06     2.000000    49.700000     4.000000      9.000000\n",
       "75%    3.600000e+06     3.000000    64.350000     8.000000     16.000000\n",
       "max    4.200000e+07     6.000000   593.000000    25.000000     32.000000"
      ]
     },
     "execution_count": 124,
     "metadata": {},
     "output_type": "execute_result"
    }
   ],
   "source": [
    "df.describe()"
   ]
  },
  {
   "cell_type": "code",
   "execution_count": 155,
   "metadata": {
    "collapsed": true
   },
   "outputs": [],
   "source": [
    "df = df.drop(df[(df['price'] > 10000000) | (df['price'] < 500000)].index)\n",
    "df = df.reset_index()\n",
    "del df['index']\n",
    "df = df.drop(df[(df['square'] > 300)].index)\n",
    "df = df.reset_index()\n",
    "del df['index']"
   ]
  },
  {
   "cell_type": "code",
   "execution_count": 156,
   "metadata": {
    "colab": {
     "base_uri": "https://localhost:8080/",
     "height": 328
    },
    "colab_type": "code",
    "id": "z1y5ToZE5hK5",
    "outputId": "a253c582-0433-413d-d0d1-99990b818551"
   },
   "outputs": [
    {
     "data": {
      "text/plain": [
       "<matplotlib.axes._subplots.AxesSubplot at 0x4a924e1d68>"
      ]
     },
     "execution_count": 156,
     "metadata": {},
     "output_type": "execute_result"
    },
    {
     "data": {
      "image/png": "[encoded data removed]",
      "text/plain": [
       "<matplotlib.figure.Figure at 0x4a91b01080>"
      ]
     },
     "metadata": {},
     "output_type": "display_data"
    }
   ],
   "source": [
    "df['room_count'].value_counts().plot(kind='bar')"
   ]
  },
  {
   "cell_type": "code",
   "execution_count": 157,
   "metadata": {},
   "outputs": [
    {
     "data": {
      "image/png": "[encoded data removed]",
      "text/plain": [
       "<matplotlib.figure.Figure at 0x4a9374af60>"
      ]
     },
     "metadata": {},
     "output_type": "display_data"
    }
   ],
   "source": [
    "plt.hist(df['price'], bins=20)\n",
    "plt.show()"
   ]
  },
  {
   "cell_type": "code",
   "execution_count": 158,
   "metadata": {},
   "outputs": [
    {
     "data": {
      "text/plain": [
       "<matplotlib.axes._subplots.AxesSubplot at 0x4a91c2a630>"
      ]
     },
     "execution_count": 158,
     "metadata": {},
     "output_type": "execute_result"
    },
    {
     "data": {
      "image/png": "[encoded data removed]",
      "text/plain": [
       "<matplotlib.figure.Figure at 0x4a8ce810f0>"
      ]
     },
     "metadata": {},
     "output_type": "display_data"
    }
   ],
   "source": [
    "df['price'].plot.kde()"
   ]
  },
  {
   "cell_type": "code",
   "execution_count": 159,
   "metadata": {},
   "outputs": [
    {
     "data": {
      "text/plain": [
       "<matplotlib.axes._subplots.AxesSubplot at 0x4a923e6f98>"
      ]
     },
     "execution_count": 159,
     "metadata": {},
     "output_type": "execute_result"
    },
    {
     "data": {
      "image/png": "[encoded data removed]",
      "text/plain": [
       "<matplotlib.figure.Figure at 0x4a91c96be0>"
      ]
     },
     "metadata": {},
     "output_type": "display_data"
    }
   ],
   "source": [
    "df['area'].value_counts().plot(kind='bar')"
   ]
  },
  {
   "cell_type": "code",
   "execution_count": 160,
   "metadata": {
    "colab": {},
    "colab_type": "code",
    "id": "D_EGo7dy7nmB"
   },
   "outputs": [],
   "source": [
    "df = df.drop(df[(df['area'] == 'Новые Ляды')].index)\n",
    "df = df.reset_index()\n",
    "del df['index']"
   ]
  },
  {
   "cell_type": "code",
   "execution_count": 161,
   "metadata": {
    "colab": {
     "base_uri": "https://localhost:8080/",
     "height": 255
    },
    "colab_type": "code",
    "id": "naLXjV4-Ff0e",
    "outputId": "cf085cf3-5324-403f-9d5d-9cf5b790f559"
   },
   "outputs": [
    {
     "name": "stdout",
     "output_type": "stream",
     "text": [
      "<class 'pandas.core.frame.DataFrame'>\n",
      "RangeIndex: 4710 entries, 0 to 4709\n",
      "Data columns (total 6 columns):\n",
      "price           4710 non-null int64\n",
      "area            4710 non-null object\n",
      "room_count      4710 non-null int64\n",
      "square          4710 non-null float64\n",
      "floor           4710 non-null int64\n",
      "total_floors    4710 non-null int64\n",
      "dtypes: float64(1), int64(4), object(1)\n",
      "memory usage: 220.9+ KB\n"
     ]
    }
   ],
   "source": [
    "df.info()"
   ]
  },
  {
   "cell_type": "code",
   "execution_count": 162,
   "metadata": {
    "colab": {
     "base_uri": "https://localhost:8080/",
     "height": 49
    },
    "colab_type": "code",
    "id": "YsGbww_2Fhah",
    "outputId": "4990b331-1275-4f33-fdd5-b4046c2f1504"
   },
   "outputs": [
    {
     "data": {
      "text/plain": [
       "<matplotlib.axes._subplots.AxesSubplot at 0x4a915f8d68>"
      ]
     },
     "execution_count": 162,
     "metadata": {},
     "output_type": "execute_result"
    },
    {
     "data": {
      "image/png": "[encoded data removed]",
      "text/plain": [
       "<matplotlib.figure.Figure at 0x4a923e6ef0>"
      ]
     },
     "metadata": {},
     "output_type": "display_data"
    }
   ],
   "source": [
    "df['area'].value_counts().plot(kind='bar')"
   ]
  },
  {
   "cell_type": "code",
   "execution_count": 164,
   "metadata": {
    "colab": {},
    "colab_type": "code",
    "id": "urhmcs7VHTMI"
   },
   "outputs": [
    {
     "name": "stderr",
     "output_type": "stream",
     "text": [
      "C:\\Users\\HP\\Anaconda3\\lib\\site-packages\\numpy\\core\\fromnumeric.py:57: FutureWarning: reshape is deprecated and will raise in a subsequent release. Please use .values.reshape(...) instead\n",
      "  return getattr(obj, method)(*args, **kwds)\n"
     ]
    },
    {
     "data": {
      "image/png": "[encoded data removed]",
      "text/plain": [
       "<matplotlib.figure.Figure at 0x4a9503cc50>"
      ]
     },
     "metadata": {},
     "output_type": "display_data"
    }
   ],
   "source": [
    "df.boxplot(column='price',  by='area', figsize=(12,12))\n",
    "plt.show()"
   ]
  },
  {
   "cell_type": "code",
   "execution_count": 165,
   "metadata": {},
   "outputs": [
    {
     "name": "stderr",
     "output_type": "stream",
     "text": [
      "C:\\Users\\HP\\Anaconda3\\lib\\site-packages\\numpy\\core\\fromnumeric.py:57: FutureWarning: reshape is deprecated and will raise in a subsequent release. Please use .values.reshape(...) instead\n",
      "  return getattr(obj, method)(*args, **kwds)\n"
     ]
    },
    {
     "data": {
      "image/png": "[encoded data removed]",
      "text/plain": [
       "<matplotlib.figure.Figure at 0x4a916326a0>"
      ]
     },
     "metadata": {},
     "output_type": "display_data"
    }
   ],
   "source": [
    "df.boxplot(column='square',  by='area', figsize=(12,12))\n",
    "plt.show()"
   ]
  },
  {
   "cell_type": "code",
   "execution_count": 166,
   "metadata": {},
   "outputs": [
    {
     "data": {
      "text/html": [
       "<div>\n",
       "<style>\n",
       "    .dataframe thead tr:only-child th {\n",
       "        text-align: right;\n",
       "    }\n",
       "\n",
       "    .dataframe thead th {\n",
       "        text-align: left;\n",
       "    }\n",
       "\n",
       "    .dataframe tbody tr th {\n",
       "        vertical-align: top;\n",
       "    }\n",
       "</style>\n",
       "<table border=\"1\" class=\"dataframe\">\n",
       "  <thead>\n",
       "    <tr style=\"text-align: right;\">\n",
       "      <th></th>\n",
       "      <th>price</th>\n",
       "      <th>room_count</th>\n",
       "      <th>square</th>\n",
       "      <th>floor</th>\n",
       "      <th>total_floors</th>\n",
       "    </tr>\n",
       "  </thead>\n",
       "  <tbody>\n",
       "    <tr>\n",
       "      <th>count</th>\n",
       "      <td>4.710000e+03</td>\n",
       "      <td>4710.000000</td>\n",
       "      <td>4710.000000</td>\n",
       "      <td>4710.000000</td>\n",
       "      <td>4710.000000</td>\n",
       "    </tr>\n",
       "    <tr>\n",
       "      <th>mean</th>\n",
       "      <td>3.060140e+06</td>\n",
       "      <td>2.087261</td>\n",
       "      <td>54.297558</td>\n",
       "      <td>5.558386</td>\n",
       "      <td>10.427176</td>\n",
       "    </tr>\n",
       "    <tr>\n",
       "      <th>std</th>\n",
       "      <td>1.495453e+06</td>\n",
       "      <td>0.896317</td>\n",
       "      <td>21.785558</td>\n",
       "      <td>4.582215</td>\n",
       "      <td>6.382388</td>\n",
       "    </tr>\n",
       "    <tr>\n",
       "      <th>min</th>\n",
       "      <td>5.200000e+05</td>\n",
       "      <td>1.000000</td>\n",
       "      <td>12.800000</td>\n",
       "      <td>1.000000</td>\n",
       "      <td>1.000000</td>\n",
       "    </tr>\n",
       "    <tr>\n",
       "      <th>25%</th>\n",
       "      <td>2.090000e+06</td>\n",
       "      <td>1.000000</td>\n",
       "      <td>40.000000</td>\n",
       "      <td>2.000000</td>\n",
       "      <td>5.000000</td>\n",
       "    </tr>\n",
       "    <tr>\n",
       "      <th>50%</th>\n",
       "      <td>2.700000e+06</td>\n",
       "      <td>2.000000</td>\n",
       "      <td>49.000000</td>\n",
       "      <td>4.000000</td>\n",
       "      <td>9.000000</td>\n",
       "    </tr>\n",
       "    <tr>\n",
       "      <th>75%</th>\n",
       "      <td>3.558889e+06</td>\n",
       "      <td>3.000000</td>\n",
       "      <td>63.300000</td>\n",
       "      <td>8.000000</td>\n",
       "      <td>16.000000</td>\n",
       "    </tr>\n",
       "    <tr>\n",
       "      <th>max</th>\n",
       "      <td>1.000000e+07</td>\n",
       "      <td>6.000000</td>\n",
       "      <td>187.000000</td>\n",
       "      <td>25.000000</td>\n",
       "      <td>32.000000</td>\n",
       "    </tr>\n",
       "  </tbody>\n",
       "</table>\n",
       "</div>"
      ],
      "text/plain": [
       "              price   room_count       square        floor  total_floors\n",
       "count  4.710000e+03  4710.000000  4710.000000  4710.000000   4710.000000\n",
       "mean   3.060140e+06     2.087261    54.297558     5.558386     10.427176\n",
       "std    1.495453e+06     0.896317    21.785558     4.582215      6.382388\n",
       "min    5.200000e+05     1.000000    12.800000     1.000000      1.000000\n",
       "25%    2.090000e+06     1.000000    40.000000     2.000000      5.000000\n",
       "50%    2.700000e+06     2.000000    49.000000     4.000000      9.000000\n",
       "75%    3.558889e+06     3.000000    63.300000     8.000000     16.000000\n",
       "max    1.000000e+07     6.000000   187.000000    25.000000     32.000000"
      ]
     },
     "execution_count": 166,
     "metadata": {},
     "output_type": "execute_result"
    }
   ],
   "source": [
    "df.describe()"
   ]
  },
  {
   "cell_type": "code",
   "execution_count": 167,
   "metadata": {
    "collapsed": true
   },
   "outputs": [],
   "source": [
    "df['area'] = df['area'].map({'Дзержинский': 1, 'Индустриальный': 2, 'Кировский': 3, 'Ленинский': 4, 'Мотовилихинский': 5, 'Орджоникидзевский': 6, 'Свердловский': 7})"
   ]
  },
  {
   "cell_type": "code",
   "execution_count": 168,
   "metadata": {},
   "outputs": [
    {
     "data": {
      "text/html": [
       "<div>\n",
       "<style>\n",
       "    .dataframe thead tr:only-child th {\n",
       "        text-align: right;\n",
       "    }\n",
       "\n",
       "    .dataframe thead th {\n",
       "        text-align: left;\n",
       "    }\n",
       "\n",
       "    .dataframe tbody tr th {\n",
       "        vertical-align: top;\n",
       "    }\n",
       "</style>\n",
       "<table border=\"1\" class=\"dataframe\">\n",
       "  <thead>\n",
       "    <tr style=\"text-align: right;\">\n",
       "      <th></th>\n",
       "      <th>area_1</th>\n",
       "      <th>area_2</th>\n",
       "      <th>area_3</th>\n",
       "      <th>area_4</th>\n",
       "      <th>area_5</th>\n",
       "      <th>area_6</th>\n",
       "      <th>area_7</th>\n",
       "    </tr>\n",
       "  </thead>\n",
       "  <tbody>\n",
       "    <tr>\n",
       "      <th>0</th>\n",
       "      <td>0</td>\n",
       "      <td>1</td>\n",
       "      <td>0</td>\n",
       "      <td>0</td>\n",
       "      <td>0</td>\n",
       "      <td>0</td>\n",
       "      <td>0</td>\n",
       "    </tr>\n",
       "    <tr>\n",
       "      <th>1</th>\n",
       "      <td>0</td>\n",
       "      <td>0</td>\n",
       "      <td>0</td>\n",
       "      <td>1</td>\n",
       "      <td>0</td>\n",
       "      <td>0</td>\n",
       "      <td>0</td>\n",
       "    </tr>\n",
       "    <tr>\n",
       "      <th>2</th>\n",
       "      <td>1</td>\n",
       "      <td>0</td>\n",
       "      <td>0</td>\n",
       "      <td>0</td>\n",
       "      <td>0</td>\n",
       "      <td>0</td>\n",
       "      <td>0</td>\n",
       "    </tr>\n",
       "    <tr>\n",
       "      <th>3</th>\n",
       "      <td>0</td>\n",
       "      <td>0</td>\n",
       "      <td>0</td>\n",
       "      <td>0</td>\n",
       "      <td>0</td>\n",
       "      <td>0</td>\n",
       "      <td>1</td>\n",
       "    </tr>\n",
       "    <tr>\n",
       "      <th>4</th>\n",
       "      <td>0</td>\n",
       "      <td>0</td>\n",
       "      <td>0</td>\n",
       "      <td>0</td>\n",
       "      <td>0</td>\n",
       "      <td>1</td>\n",
       "      <td>0</td>\n",
       "    </tr>\n",
       "  </tbody>\n",
       "</table>\n",
       "</div>"
      ],
      "text/plain": [
       "   area_1  area_2  area_3  area_4  area_5  area_6  area_7\n",
       "0       0       1       0       0       0       0       0\n",
       "1       0       0       0       1       0       0       0\n",
       "2       1       0       0       0       0       0       0\n",
       "3       0       0       0       0       0       0       1\n",
       "4       0       0       0       0       0       1       0"
      ]
     },
     "execution_count": 168,
     "metadata": {},
     "output_type": "execute_result"
    }
   ],
   "source": [
    "dfDummies = pd.get_dummies(df['area'], prefix = 'area')\n",
    "dfDummies.head()"
   ]
  },
  {
   "cell_type": "code",
   "execution_count": 169,
   "metadata": {},
   "outputs": [
    {
     "data": {
      "text/html": [
       "<div>\n",
       "<style>\n",
       "    .dataframe thead tr:only-child th {\n",
       "        text-align: right;\n",
       "    }\n",
       "\n",
       "    .dataframe thead th {\n",
       "        text-align: left;\n",
       "    }\n",
       "\n",
       "    .dataframe tbody tr th {\n",
       "        vertical-align: top;\n",
       "    }\n",
       "</style>\n",
       "<table border=\"1\" class=\"dataframe\">\n",
       "  <thead>\n",
       "    <tr style=\"text-align: right;\">\n",
       "      <th></th>\n",
       "      <th>price</th>\n",
       "      <th>area</th>\n",
       "      <th>room_count</th>\n",
       "      <th>square</th>\n",
       "      <th>floor</th>\n",
       "      <th>total_floors</th>\n",
       "      <th>area_1</th>\n",
       "      <th>area_2</th>\n",
       "      <th>area_3</th>\n",
       "      <th>area_4</th>\n",
       "      <th>area_5</th>\n",
       "      <th>area_6</th>\n",
       "      <th>area_7</th>\n",
       "    </tr>\n",
       "  </thead>\n",
       "  <tbody>\n",
       "    <tr>\n",
       "      <th>0</th>\n",
       "      <td>2990000</td>\n",
       "      <td>2</td>\n",
       "      <td>3</td>\n",
       "      <td>65.0</td>\n",
       "      <td>5</td>\n",
       "      <td>16</td>\n",
       "      <td>0</td>\n",
       "      <td>1</td>\n",
       "      <td>0</td>\n",
       "      <td>0</td>\n",
       "      <td>0</td>\n",
       "      <td>0</td>\n",
       "      <td>0</td>\n",
       "    </tr>\n",
       "    <tr>\n",
       "      <th>1</th>\n",
       "      <td>6850000</td>\n",
       "      <td>4</td>\n",
       "      <td>3</td>\n",
       "      <td>85.6</td>\n",
       "      <td>10</td>\n",
       "      <td>10</td>\n",
       "      <td>0</td>\n",
       "      <td>0</td>\n",
       "      <td>0</td>\n",
       "      <td>1</td>\n",
       "      <td>0</td>\n",
       "      <td>0</td>\n",
       "      <td>0</td>\n",
       "    </tr>\n",
       "    <tr>\n",
       "      <th>2</th>\n",
       "      <td>1669000</td>\n",
       "      <td>1</td>\n",
       "      <td>1</td>\n",
       "      <td>33.4</td>\n",
       "      <td>4</td>\n",
       "      <td>16</td>\n",
       "      <td>1</td>\n",
       "      <td>0</td>\n",
       "      <td>0</td>\n",
       "      <td>0</td>\n",
       "      <td>0</td>\n",
       "      <td>0</td>\n",
       "      <td>0</td>\n",
       "    </tr>\n",
       "    <tr>\n",
       "      <th>3</th>\n",
       "      <td>2107000</td>\n",
       "      <td>7</td>\n",
       "      <td>1</td>\n",
       "      <td>39.0</td>\n",
       "      <td>1</td>\n",
       "      <td>9</td>\n",
       "      <td>0</td>\n",
       "      <td>0</td>\n",
       "      <td>0</td>\n",
       "      <td>0</td>\n",
       "      <td>0</td>\n",
       "      <td>0</td>\n",
       "      <td>1</td>\n",
       "    </tr>\n",
       "    <tr>\n",
       "      <th>4</th>\n",
       "      <td>2900000</td>\n",
       "      <td>6</td>\n",
       "      <td>2</td>\n",
       "      <td>67.0</td>\n",
       "      <td>5</td>\n",
       "      <td>16</td>\n",
       "      <td>0</td>\n",
       "      <td>0</td>\n",
       "      <td>0</td>\n",
       "      <td>0</td>\n",
       "      <td>0</td>\n",
       "      <td>1</td>\n",
       "      <td>0</td>\n",
       "    </tr>\n",
       "  </tbody>\n",
       "</table>\n",
       "</div>"
      ],
      "text/plain": [
       "     price  area  room_count  square  floor  total_floors  area_1  area_2  \\\n",
       "0  2990000     2           3    65.0      5            16       0       1   \n",
       "1  6850000     4           3    85.6     10            10       0       0   \n",
       "2  1669000     1           1    33.4      4            16       1       0   \n",
       "3  2107000     7           1    39.0      1             9       0       0   \n",
       "4  2900000     6           2    67.0      5            16       0       0   \n",
       "\n",
       "   area_3  area_4  area_5  area_6  area_7  \n",
       "0       0       0       0       0       0  \n",
       "1       0       1       0       0       0  \n",
       "2       0       0       0       0       0  \n",
       "3       0       0       0       0       1  \n",
       "4       0       0       0       1       0  "
      ]
     },
     "execution_count": 169,
     "metadata": {},
     "output_type": "execute_result"
    }
   ],
   "source": [
    "df = pd.concat([df, dfDummies], axis=1)\n",
    "df.head()"
   ]
  },
  {
   "cell_type": "code",
   "execution_count": 170,
   "metadata": {},
   "outputs": [],
   "source": [
    "df['price'] = np.log10(df['price'] + 1)\n",
    "cls = RandomForestRegressor(n_estimators=50, criterion='mse', max_depth=4)"
   ]
  },
  {
   "cell_type": "code",
   "execution_count": 171,
   "metadata": {},
   "outputs": [
    {
     "data": {
      "image/png": "[encoded data removed]",
      "text/plain": [
       "<matplotlib.figure.Figure at 0x4a92243e80>"
      ]
     },
     "metadata": {},
     "output_type": "display_data"
    }
   ],
   "source": [
    "plt.hist(df['price'], bins=20)\n",
    "plt.show()"
   ]
  },
  {
   "cell_type": "code",
   "execution_count": 172,
   "metadata": {},
   "outputs": [
    {
     "data": {
      "text/plain": [
       "<matplotlib.axes._subplots.AxesSubplot at 0x4a9223f9e8>"
      ]
     },
     "execution_count": 172,
     "metadata": {},
     "output_type": "execute_result"
    },
    {
     "data": {
      "image/png": "[encoded data removed]",
      "text/plain": [
       "<matplotlib.figure.Figure at 0x4a955dfe10>"
      ]
     },
     "metadata": {},
     "output_type": "display_data"
    }
   ],
   "source": [
    "df['price'].plot.kde()"
   ]
  },
  {
   "cell_type": "code",
   "execution_count": 204,
   "metadata": {
    "collapsed": true
   },
   "outputs": [],
   "source": [
    "X_train, X_test, y_train, y_test = train_test_split( df[list(set(df.columns)-set(['price', 'area']))], df['price'], test_size=0.2, random_state=42)"
   ]
  },
  {
   "cell_type": "code",
   "execution_count": 205,
   "metadata": {},
   "outputs": [
    {
     "name": "stdout",
     "output_type": "stream",
     "text": [
      "0.784058407436\n"
     ]
    }
   ],
   "source": [
    "cls.fit(X_train, y_train)\n",
    "score = cls.score(X_train, y_train)\n",
    "print(score)"
   ]
  },
  {
   "cell_type": "code",
   "execution_count": 206,
   "metadata": {},
   "outputs": [],
   "source": [
    "features = list(set(df.columns)-set(['price', 'area']))\n",
    "importances = cls.feature_importances_\n",
    "indices = np.argsort(importances)"
   ]
  },
  {
   "cell_type": "code",
   "execution_count": 207,
   "metadata": {},
   "outputs": [
    {
     "data": {
      "image/png": "[encoded data removed]",
      "text/plain": [
       "<matplotlib.figure.Figure at 0x4a94e7e9e8>"
      ]
     },
     "metadata": {},
     "output_type": "display_data"
    }
   ],
   "source": [
    "plt.title('Feature Importances')\n",
    "plt.barh(range(len(indices)), importances[indices], color='b', align='center')\n",
    "plt.yticks(range(len(indices)), [features[i] for i in indices])\n",
    "plt.xlabel('Relative Importance')\n",
    "plt.show()"
   ]
  },
  {
   "cell_type": "code",
   "execution_count": 189,
   "metadata": {},
   "outputs": [
    {
     "data": {
      "text/plain": [
       "0.0085100418568949364"
      ]
     },
     "execution_count": 189,
     "metadata": {},
     "output_type": "execute_result"
    }
   ],
   "source": [
    "from sklearn.metrics import mean_squared_error as mse\n",
    "cnt_predict = cls.predict(X_test[features][:])\n",
    "mse(y_test, cnt_predict)"
   ]
  },
  {
   "cell_type": "code",
   "execution_count": null,
   "metadata": {
    "collapsed": true
   },
   "outputs": [],
   "source": [
    "test_r2 = r2_score(y_test, cls.predict(X_test[features][:]))\n",
    "test_r2"
   ]
  },
  {
   "cell_type": "code",
   "execution_count": 195,
   "metadata": {},
   "outputs": [
    {
     "data": {
      "text/plain": [
       "0.7780072423630312"
      ]
     },
     "execution_count": 195,
     "metadata": {},
     "output_type": "execute_result"
    }
   ],
   "source": [
    "test_r2 = r2_score(y_test, cls.predict(X_test[features][:]))\n",
    "test_r2"
   ]
  },
  {
   "cell_type": "code",
   "execution_count": 212,
   "metadata": {},
   "outputs": [],
   "source": [
    "df_res = pd.DataFrame({'Actual': y_test, 'Predicted': cnt_predict})\n",
    "\n",
    "df_res = df_res.head(25)"
   ]
  },
  {
   "cell_type": "code",
   "execution_count": 214,
   "metadata": {},
   "outputs": [
    {
     "data": {
      "image/png": "[encoded data removed]",
      "text/plain": [
       "<matplotlib.figure.Figure at 0x4a959a8438>"
      ]
     },
     "metadata": {},
     "output_type": "display_data"
    }
   ],
   "source": [
    "df_res.plot(kind='bar',figsize=(15,8))\n",
    "plt.grid(which='major', linestyle='-', linewidth='0.5', color='green')\n",
    "plt.grid(which='minor', linestyle=':', linewidth='0.5', color='black')\n",
    "plt.show()"
   ]
  },
  {
   "cell_type": "code",
   "execution_count": 215,
   "metadata": {},
   "outputs": [
    {
     "data": {
      "text/plain": [
       "array([ 0.01443811,  0.00759325,  0.00571266, -0.07594945,  0.01883022,\n",
       "        0.03485854,  0.01976252,  0.01042879,  0.11449655, -0.12643649,\n",
       "        0.00136316])"
      ]
     },
     "execution_count": 215,
     "metadata": {},
     "output_type": "execute_result"
    }
   ],
   "source": [
    "reg = linear_model.LinearRegression()\n",
    "reg.fit(X_train, y_train)\n",
    "reg.coef_"
   ]
  },
  {
   "cell_type": "code",
   "execution_count": 216,
   "metadata": {},
   "outputs": [
    {
     "data": {
      "text/plain": [
       "0.8072152132875936"
      ]
     },
     "execution_count": 216,
     "metadata": {},
     "output_type": "execute_result"
    }
   ],
   "source": [
    "# Точность на обучающей выборке.\n",
    "train_r2 = r2_score(y_train, reg.predict(X_train))\n",
    "train_r2"
   ]
  },
  {
   "cell_type": "code",
   "execution_count": 217,
   "metadata": {},
   "outputs": [
    {
     "data": {
      "text/plain": [
       "0.77646881444595461"
      ]
     },
     "execution_count": 217,
     "metadata": {},
     "output_type": "execute_result"
    }
   ],
   "source": [
    "test_r2 = r2_score(y_test, reg.predict(X_test))\n",
    "test_r2"
   ]
  },
  {
   "cell_type": "code",
   "execution_count": 218,
   "metadata": {},
   "outputs": [],
   "source": [
    "features = list(set(df.columns)-set(['price', 'area']))\n",
    "importances = reg.coef_\n",
    "indices = np.argsort(importances)"
   ]
  },
  {
   "cell_type": "code",
   "execution_count": 219,
   "metadata": {},
   "outputs": [
    {
     "data": {
      "image/png": "[encoded data removed]",
      "text/plain": [
       "<matplotlib.figure.Figure at 0x4a954fe6d8>"
      ]
     },
     "metadata": {},
     "output_type": "display_data"
    }
   ],
   "source": [
    "plt.title('Feature Importances')\n",
    "plt.barh(range(len(indices)), importances[indices], color='b', align='center')\n",
    "plt.yticks(range(len(indices)), [features[i] for i in indices])\n",
    "plt.xlabel('Relative Importance')\n",
    "plt.show()"
   ]
  },
  {
   "cell_type": "code",
   "execution_count": 220,
   "metadata": {},
   "outputs": [
    {
     "data": {
      "text/html": [
       "<div>\n",
       "<style>\n",
       "    .dataframe thead tr:only-child th {\n",
       "        text-align: right;\n",
       "    }\n",
       "\n",
       "    .dataframe thead th {\n",
       "        text-align: left;\n",
       "    }\n",
       "\n",
       "    .dataframe tbody tr th {\n",
       "        vertical-align: top;\n",
       "    }\n",
       "</style>\n",
       "<table border=\"1\" class=\"dataframe\">\n",
       "  <thead>\n",
       "    <tr style=\"text-align: right;\">\n",
       "      <th></th>\n",
       "      <th>area_5</th>\n",
       "      <th>total_floors</th>\n",
       "      <th>square</th>\n",
       "      <th>area_3</th>\n",
       "      <th>area_7</th>\n",
       "      <th>area_1</th>\n",
       "      <th>area_2</th>\n",
       "      <th>room_count</th>\n",
       "      <th>area_4</th>\n",
       "      <th>area_6</th>\n",
       "      <th>floor</th>\n",
       "    </tr>\n",
       "  </thead>\n",
       "  <tbody>\n",
       "    <tr>\n",
       "      <th>2704</th>\n",
       "      <td>0</td>\n",
       "      <td>14</td>\n",
       "      <td>38.0</td>\n",
       "      <td>0</td>\n",
       "      <td>1</td>\n",
       "      <td>0</td>\n",
       "      <td>0</td>\n",
       "      <td>1</td>\n",
       "      <td>0</td>\n",
       "      <td>0</td>\n",
       "      <td>8</td>\n",
       "    </tr>\n",
       "    <tr>\n",
       "      <th>2168</th>\n",
       "      <td>1</td>\n",
       "      <td>5</td>\n",
       "      <td>40.0</td>\n",
       "      <td>0</td>\n",
       "      <td>0</td>\n",
       "      <td>0</td>\n",
       "      <td>0</td>\n",
       "      <td>2</td>\n",
       "      <td>0</td>\n",
       "      <td>0</td>\n",
       "      <td>2</td>\n",
       "    </tr>\n",
       "    <tr>\n",
       "      <th>1617</th>\n",
       "      <td>0</td>\n",
       "      <td>5</td>\n",
       "      <td>62.0</td>\n",
       "      <td>0</td>\n",
       "      <td>0</td>\n",
       "      <td>0</td>\n",
       "      <td>1</td>\n",
       "      <td>3</td>\n",
       "      <td>0</td>\n",
       "      <td>0</td>\n",
       "      <td>3</td>\n",
       "    </tr>\n",
       "    <tr>\n",
       "      <th>4314</th>\n",
       "      <td>1</td>\n",
       "      <td>14</td>\n",
       "      <td>57.9</td>\n",
       "      <td>0</td>\n",
       "      <td>0</td>\n",
       "      <td>0</td>\n",
       "      <td>0</td>\n",
       "      <td>2</td>\n",
       "      <td>0</td>\n",
       "      <td>0</td>\n",
       "      <td>4</td>\n",
       "    </tr>\n",
       "    <tr>\n",
       "      <th>599</th>\n",
       "      <td>0</td>\n",
       "      <td>9</td>\n",
       "      <td>56.0</td>\n",
       "      <td>0</td>\n",
       "      <td>1</td>\n",
       "      <td>0</td>\n",
       "      <td>0</td>\n",
       "      <td>2</td>\n",
       "      <td>0</td>\n",
       "      <td>0</td>\n",
       "      <td>2</td>\n",
       "    </tr>\n",
       "  </tbody>\n",
       "</table>\n",
       "</div>"
      ],
      "text/plain": [
       "      area_5  total_floors  square  area_3  area_7  area_1  area_2  \\\n",
       "2704       0            14    38.0       0       1       0       0   \n",
       "2168       1             5    40.0       0       0       0       0   \n",
       "1617       0             5    62.0       0       0       0       1   \n",
       "4314       1            14    57.9       0       0       0       0   \n",
       "599        0             9    56.0       0       1       0       0   \n",
       "\n",
       "      room_count  area_4  area_6  floor  \n",
       "2704           1       0       0      8  \n",
       "2168           2       0       0      2  \n",
       "1617           3       0       0      3  \n",
       "4314           2       0       0      4  \n",
       "599            2       0       0      2  "
      ]
     },
     "execution_count": 220,
     "metadata": {},
     "output_type": "execute_result"
    }
   ],
   "source": [
    "X_train.head()"
   ]
  },
  {
   "cell_type": "code",
   "execution_count": 221,
   "metadata": {
    "collapsed": true
   },
   "outputs": [],
   "source": [
    "df_res = pd.DataFrame({'Actual': y_test, 'Predicted': reg.predict(X_test)})\n",
    "df_res = df_res.head(25)"
   ]
  },
  {
   "cell_type": "code",
   "execution_count": 223,
   "metadata": {},
   "outputs": [
    {
     "data": {
      "image/png": "[encoded data removed]",
      "text/plain": [
       "<matplotlib.figure.Figure at 0x4a94edafd0>"
      ]
     },
     "metadata": {},
     "output_type": "display_data"
    }
   ],
   "source": [
    "df_res.plot(kind='bar',figsize=(15,8))\n",
    "plt.grid(which='major', linestyle='-', linewidth='0.5', color='green')\n",
    "plt.grid(which='minor', linestyle=':', linewidth='0.5', color='black')\n",
    "plt.show()"
   ]
  },
  {
   "cell_type": "code",
   "execution_count": null,
   "metadata": {
    "collapsed": true
   },
   "outputs": [],
   "source": []
  }
 ],
 "metadata": {
  "colab": {
   "name": "Untitled4.ipynb",
   "provenance": []
  },
  "kernelspec": {
   "display_name": "Python 3",
   "language": "python",
   "name": "python3"
  },
  "language_info": {
   "codemirror_mode": {
    "name": "ipython",
    "version": 3
   },
   "file_extension": ".py",
   "mimetype": "text/x-python",
   "name": "python",
   "nbconvert_exporter": "python",
   "pygments_lexer": "ipython3",
   "version": "3.5.4"
  },
  "widgets": {
   "state": {},
   "version": "1.1.2"
  }
 },
 "nbformat": 4,
 "nbformat_minor": 1
}
